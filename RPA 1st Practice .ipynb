{
 "cells": [
  {
   "cell_type": "code",
   "execution_count": null,
   "metadata": {},
   "outputs": [],
   "source": [
    "pip install pyautogui"
   ]
  },
  {
   "cell_type": "code",
   "execution_count": null,
   "metadata": {},
   "outputs": [],
   "source": [
    "pip install pywinauto"
   ]
  },
  {
   "cell_type": "code",
   "execution_count": 55,
   "metadata": {},
   "outputs": [],
   "source": [
    "import pyautogui"
   ]
  },
  {
   "cell_type": "code",
   "execution_count": 56,
   "metadata": {},
   "outputs": [],
   "source": [
    "import time"
   ]
  },
  {
   "cell_type": "code",
   "execution_count": 54,
   "metadata": {},
   "outputs": [
    {
     "name": "stdout",
     "output_type": "stream",
     "text": [
      "1280 1024\n"
     ]
    }
   ],
   "source": [
    "screenWidth,screenHeight = pyautogui.size() # ScreenSize (1280, 1024)\n",
    "print(screenWidth,screenHeight)"
   ]
  },
  {
   "cell_type": "code",
   "execution_count": 50,
   "metadata": {},
   "outputs": [
    {
     "name": "stdout",
     "output_type": "stream",
     "text": [
      "791 185\n"
     ]
    }
   ],
   "source": [
    "currentMouseX, currentMouseY = pyautogui.position() \n",
    "print(currentMouseX, currentMouseY)"
   ]
  },
  {
   "cell_type": "code",
   "execution_count": 24,
   "metadata": {},
   "outputs": [],
   "source": [
    "# Desktop(1277 1003) # Start Menu Photoshop Icon (505, 997)\n",
    "# Photoshop Place (1239 134) \n",
    "# Edit Folder (1237 36) \n",
    "# Frist Image (161, 130)\n",
    "# Filter (276, 8)\n",
    "# Filter Imangenomic (341, 450)\n",
    "# Filter Imangenomic NoiceWare (528, 455) Ok Posistion (1038, 187)\n",
    "# Save Ok (791, 185)"
   ]
  },
  {
   "cell_type": "code",
   "execution_count": 63,
   "metadata": {},
   "outputs": [],
   "source": [
    "pyautogui.click(1277, 1003, duration=0.5)\n",
    "pyautogui.click(1239, 134 , duration=0.5)\n",
    "pyautogui.press('enter')\n",
    "time.sleep(20) # Sleep for 60 seconds(1 Mint)\n",
    "#pyautogui.hotkey('ctrl', 'o')\n",
    "#time.sleep(5)\n",
    "#pyautogui.click(505, 997, duration=0.5) # Start Menu Photoshop Icon (505, 997)\n",
    "pyautogui.doubleClick(341, 450) # Open Folder\n",
    "time.sleep(2)\n",
    "pyautogui.click(161, 130, duration=0.5) # Frist Image (161, 130)\n",
    "pyautogui.press('enter')\n",
    "time.sleep(5)\n",
    "pyautogui.click(276, 8, duration=0.5) # Filter (276, 8)\n",
    "pyautogui.click(341, 450, duration=0.5) # Filter Imangenomic (341, 450)\n",
    "pyautogui.click(528, 455, duration=0.5) # Filter Imangenomic NoiceWare (528, 455)\n",
    "time.sleep(2)\n",
    "pyautogui.click(1038, 187, duration=0.5) #Ok Posistion (1038, 187)\n",
    "pyautogui.hotkey('ctrl', 'shift', 's')\n",
    "time.sleep(2)\n",
    "pyautogui.press('right')\n",
    "pyautogui.write('_01')\n",
    "pyautogui.press('enter')\n",
    "time.sleep(1)\n",
    "pyautogui.write('12')\n",
    "pyautogui.press('enter')\n",
    "pyautogui.hotkey('ctrl', 'w')\n",
    "\n",
    "#---------------- 2nd Image ---------------------------\n",
    "#pyautogui.click(505, 997, duration=0.5) # Start Menu Photoshop Icon (505, 997)\n",
    "pyautogui.doubleClick(341, 450) # Open Folder\n",
    "time.sleep(2)\n",
    "pyautogui.click(161, 130, duration=0.5) # Frist Image (161, 130)\n",
    "pyautogui.press('right', presses=2)\n",
    "pyautogui.press('enter')\n",
    "time.sleep(5)\n",
    "pyautogui.click(276, 8, duration=0.5) # Filter (276, 8)\n",
    "pyautogui.click(341, 450, duration=0.5) # Filter Imangenomic (341, 450)\n",
    "pyautogui.click(528, 455, duration=0.5) # Filter Imangenomic NoiceWare (528, 455)\n",
    "time.sleep(2)\n",
    "pyautogui.click(1038, 187, duration=0.5) #Ok Posistion (1038, 187)\n",
    "pyautogui.hotkey('ctrl', 'shift', 's')\n",
    "time.sleep(2)\n",
    "pyautogui.moveTo(791, 185)\n",
    "pyautogui.press('right')\n",
    "pyautogui.write('_01')\n",
    "pyautogui.press('enter')\n",
    "time.sleep(1)\n",
    "pyautogui.write('12')\n",
    "pyautogui.press('enter')\n",
    "pyautogui.hotkey('ctrl', 'w')\n",
    "\n"
   ]
  },
  {
   "cell_type": "code",
   "execution_count": null,
   "metadata": {},
   "outputs": [],
   "source": []
  },
  {
   "cell_type": "code",
   "execution_count": null,
   "metadata": {},
   "outputs": [],
   "source": []
  }
 ],
 "metadata": {
  "kernelspec": {
   "display_name": "Python 3",
   "language": "python",
   "name": "python3"
  },
  "language_info": {
   "codemirror_mode": {
    "name": "ipython",
    "version": 3
   },
   "file_extension": ".py",
   "mimetype": "text/x-python",
   "name": "python",
   "nbconvert_exporter": "python",
   "pygments_lexer": "ipython3",
   "version": "3.8.5"
  }
 },
 "nbformat": 4,
 "nbformat_minor": 4
}
